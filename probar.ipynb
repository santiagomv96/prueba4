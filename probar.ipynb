{
 "cells": [
  {
   "cell_type": "code",
   "execution_count": null,
   "metadata": {},
   "outputs": [],
   "source": [
    "import numpy as np\n",
    "import tensorflow as tf\n",
    "from tensorflow.keras.datasets import mnist\n",
    "from sklearn.linear_model import LogisticRegression\n",
    "from sklearn.metrics import confusion_matrix, accuracy_score\n",
    "import joblib\n",
    "from unsupervised.PCA import PCA\n"
   ]
  },
  {
   "attachments": {},
   "cell_type": "markdown",
   "metadata": {},
   "source": [
    "Modelo Completo"
   ]
  },
  {
   "cell_type": "code",
   "execution_count": 49,
   "metadata": {},
   "outputs": [
    {
     "name": "stdout",
     "output_type": "stream",
     "text": [
      " predicción modelo sin reducción 7\n"
     ]
    }
   ],
   "source": [
    "\n",
    "# Get Mnist\n",
    "(X_train, y_train), (X_test, y_test) = mnist.load_data()\n",
    "\n",
    "#Resahpe 2x2 the dataset \n",
    "dato = X_test[0].reshape(X_train[0].shape[0]* X_train[0].shape[1])  \n",
    "model_cargado = joblib.load(\"modelo_entrenado.pkl\")\n",
    "y_pred = model_cargado.predict(dato.reshape(1, -1))\n",
    "print(f\" predicción modelo sin reducción {y_pred[0]}\")\n",
    "\n"
   ]
  },
  {
   "attachments": {},
   "cell_type": "markdown",
   "metadata": {},
   "source": [
    "Modelo reducido"
   ]
  },
  {
   "cell_type": "code",
   "execution_count": 50,
   "metadata": {},
   "outputs": [],
   "source": [
    "# build masks \n",
    "masktrain = (y_train == 0) | (y_train == 8)\n",
    "masktest = (y_test == 0) | (y_test == 8)\n",
    "# Apply masks\n",
    "X_train = X_train[masktrain]/255.0\n",
    "y_train = y_train[masktrain]\n",
    "X_test = X_test[masktest]/255.0\n",
    "y_test = y_test[masktest]\n",
    "\n",
    "pca=PCA(2)\n",
    "X_train2=X_train/255\n",
    "X_test2=X_test/255.0\n",
    "flatten_xtrain = X_train.reshape(X_train2.shape[0] , X_train2.shape[1]* X_train2.shape[2])   \n",
    "flatten_xtest = X_test.reshape(X_test2.shape[0] , X_test2.shape[1]* X_test2.shape[2]) \n",
    "pca.fit(flatten_xtrain) \n",
    "reduced_x_test=np.real(pca.transform(flatten_xtest))\n",
    "reduced_x_train=np.real(pca.transform(flatten_xtrain))"
   ]
  },
  {
   "cell_type": "code",
   "execution_count": 51,
   "metadata": {},
   "outputs": [
    {
     "name": "stdout",
     "output_type": "stream",
     "text": [
      "Accuracy:  0.9518935516888434\n"
     ]
    }
   ],
   "source": [
    "regressor = LogisticRegression(random_state=0)\n",
    "regressor.fit(reduced_x_train, y_train)\n",
    "y_pred = regressor.predict(reduced_x_test)\n",
    "print('Accuracy: ', accuracy_score(y_test, y_pred))"
   ]
  },
  {
   "cell_type": "code",
   "execution_count": 53,
   "metadata": {},
   "outputs": [
    {
     "data": {
      "text/plain": [
       "['pca_2_componentes.pkl']"
      ]
     },
     "execution_count": 53,
     "metadata": {},
     "output_type": "execute_result"
    }
   ],
   "source": [
    "# guardar modelo de reduccion pca\n",
    "joblib.dump(pca, 'pca_2_componentes.pkl')"
   ]
  },
  {
   "cell_type": "code",
   "execution_count": 52,
   "metadata": {},
   "outputs": [
    {
     "data": {
      "text/plain": [
       "['modelo_reducido_0_8.pkl']"
      ]
     },
     "execution_count": 52,
     "metadata": {},
     "output_type": "execute_result"
    }
   ],
   "source": [
    "# Guardar modelo reducido\n",
    "joblib.dump(regressor, 'modelo_reducido_0_8.pkl')\n"
   ]
  }
 ],
 "metadata": {
  "kernelspec": {
   "display_name": "Python 3",
   "language": "python",
   "name": "python3"
  },
  "language_info": {
   "codemirror_mode": {
    "name": "ipython",
    "version": 3
   },
   "file_extension": ".py",
   "mimetype": "text/x-python",
   "name": "python",
   "nbconvert_exporter": "python",
   "pygments_lexer": "ipython3",
   "version": "3.11.2"
  },
  "orig_nbformat": 4
 },
 "nbformat": 4,
 "nbformat_minor": 2
}
